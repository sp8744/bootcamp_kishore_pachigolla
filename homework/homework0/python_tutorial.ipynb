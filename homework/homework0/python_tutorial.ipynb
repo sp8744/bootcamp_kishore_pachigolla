{
 "cells": [
  {
   "cell_type": "code",
   "execution_count": 1,
   "id": "39151b28-3cbf-4da3-8257-80f40d49f50b",
   "metadata": {},
   "outputs": [
    {
     "name": "stdout",
     "output_type": "stream",
     "text": [
      "Hello, Bootcamp!\n"
     ]
    }
   ],
   "source": [
    "print(\"Hello, Bootcamp!\")"
   ]
  },
  {
   "cell_type": "code",
   "execution_count": null,
   "id": "ce8c97bb-bf36-4bc5-933e-fe97c6b6049c",
   "metadata": {},
   "outputs": [],
   "source": []
  }
 ],
 "metadata": {
  "kernelspec": {
   "display_name": "Python 3 (ipykernel)",
   "language": "python",
   "name": "python3"
  },
  "language_info": {
   "codemirror_mode": {
    "name": "ipython",
    "version": 3
   },
   "file_extension": ".py",
   "mimetype": "text/x-python",
   "name": "python",
   "nbconvert_exporter": "python",
   "pygments_lexer": "ipython3",
   "version": "3.10.18"
  }
 },
 "nbformat": 4,
 "nbformat_minor": 5
}
